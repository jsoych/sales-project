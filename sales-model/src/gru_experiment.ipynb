{
  "cells": [
    {
      "cell_type": "code",
      "execution_count": null,
      "metadata": {
        "colab": {
          "base_uri": "https://localhost:8080/"
        },
        "id": "MFfFPcHpTt81",
        "outputId": "9699b0f8-e483-4ca2-c8ce-6e2a3ed128fd"
      },
      "outputs": [],
      "source": [
        "from google.colab import drive\n",
        "drive.mount('/content/drive')"
      ]
    },
    {
      "cell_type": "code",
      "execution_count": null,
      "metadata": {
        "colab": {
          "base_uri": "https://localhost:8080/"
        },
        "id": "YepQorrpT8st",
        "outputId": "b6a37468-db50-4077-a7a9-dbecb785026f"
      },
      "outputs": [],
      "source": [
        "!unzip /content/drive/MyDrive/machine-learning-data/sales-forecasting/sales-data.zip -d data"
      ]
    },
    {
      "cell_type": "code",
      "execution_count": null,
      "metadata": {
        "colab": {
          "base_uri": "https://localhost:8080/"
        },
        "id": "hKe3vxj_T-n4",
        "outputId": "c95580fd-a21a-4923-e85a-f38bece37857"
      },
      "outputs": [],
      "source": [
        "!pip install PyGithub"
      ]
    },
    {
      "cell_type": "code",
      "execution_count": 4,
      "metadata": {
        "id": "BV7xSeCaUAbx"
      },
      "outputs": [],
      "source": [
        "import os\n",
        "\n",
        "from github import Github, Auth\n",
        "\n",
        "# Get DataGenerator object from sales-project repo\n",
        "auth = Auth.Token('')\n",
        "\n",
        "# Public web Github\n",
        "with Github(auth=auth) as gh:\n",
        "    # Get team_project repo\n",
        "    repo = gh.get_user().get_repo('sales-project')\n",
        "\n",
        "    # Get data generator from repo\n",
        "    content = repo.get_contents(\n",
        "        path='sales-model/src/data_generator.py',\n",
        "        ref='a07dd52'\n",
        "    )\n",
        "    rawdata = content.decoded_content\n",
        "\n",
        "    # Save data generator\n",
        "    if not(os.path.exists(content.name)):\n",
        "        with open(content.name, 'wb') as f:\n",
        "            f.write(rawdata)"
      ]
    },
    {
      "cell_type": "code",
      "execution_count": null,
      "metadata": {
        "colab": {
          "base_uri": "https://localhost:8080/"
        },
        "id": "RnCX-itgUDLj",
        "outputId": "d7d93519-1025-4b07-82cb-cbe52ea09200"
      },
      "outputs": [],
      "source": [
        "from data_generator import DataGenerator\n",
        "\n",
        "# Create train data generator\n",
        "train_gen = DataGenerator('data/sales_train.csv', 'data/items.csv')\n",
        "\n",
        "# Create validation data generator\n",
        "val_gen = train_gen.split_generator(0.3, shuffle=True)\n",
        "\n",
        "# Create test data generator\n",
        "test_gen = val_gen.split_generator(0.33, shuffle=True)"
      ]
    },
    {
      "cell_type": "code",
      "execution_count": 6,
      "metadata": {
        "id": "VL3nywM6UHIr"
      },
      "outputs": [],
      "source": [
        "import numpy as np\n",
        "import pandas as pd\n",
        "\n",
        "# Get item prices\n",
        "prices = pd.read_csv('/content/data/sales_train.csv', usecols=['item_price'])\n",
        "prices = np.squeeze(prices.to_numpy())"
      ]
    },
    {
      "cell_type": "code",
      "execution_count": null,
      "metadata": {
        "colab": {
          "base_uri": "https://localhost:8080/",
          "height": 468
        },
        "id": "fiz10Ky3UOW7",
        "outputId": "39a996a4-61e3-4ac9-981e-ef303dc209b9"
      },
      "outputs": [],
      "source": [
        "from keras import Model, Input\n",
        "from keras.layers import Concatenate, Dense, Discretization, GRU, Hashing\n",
        "\n",
        "# Sales feature\n",
        "sales_input = Input((train_gen.seq_len, 12), name='sales')\n",
        "x = GRU(16, name='gru_layer')(sales_input)\n",
        "\n",
        "# Items feature\n",
        "items_input = Input((1,), name='items')\n",
        "y = Hashing(16, name='hashing_layer')(items_input)\n",
        "\n",
        "# Prices feature\n",
        "prices_input = Input((1,), name='prices')\n",
        "discrete_layer = Discretization(num_bins=16, name='discrete_layer')\n",
        "discrete_layer.adapt(prices)\n",
        "z = discrete_layer(prices_input)\n",
        "\n",
        "w = Concatenate(name='concatenate')([x,y,z])\n",
        "w = Dense(256, activation='relu', name='hidden_layer')(w)\n",
        "pred = Dense(1, activation='relu', name='prediction')(w)\n",
        "\n",
        "# Create model\n",
        "model = Model(\n",
        "    inputs=[sales_input, items_input, prices_input],\n",
        "    outputs=pred\n",
        ")\n",
        "model.summary()"
      ]
    },
    {
      "cell_type": "code",
      "execution_count": 8,
      "metadata": {
        "id": "Y6fVL0kaVHye"
      },
      "outputs": [],
      "source": [
        "model.compile(optimizer='adam', loss='mse')"
      ]
    },
    {
      "cell_type": "code",
      "execution_count": null,
      "metadata": {
        "colab": {
          "base_uri": "https://localhost:8080/"
        },
        "id": "KsAPzcr3VN8d",
        "outputId": "449b982e-20f0-40c5-d1a8-cb44b1b2e392"
      },
      "outputs": [],
      "source": [
        "from keras.callbacks import EarlyStopping\n",
        "\n",
        "# Fit model\n",
        "history = model.fit(\n",
        "    x=train_gen,\n",
        "    batch_size=train_gen.batch_size,\n",
        "    epochs=100,\n",
        "    callbacks=EarlyStopping(patience=3),\n",
        "    validation_data=val_gen,\n",
        "    validation_batch_size=val_gen.batch_size\n",
        ")"
      ]
    },
    {
      "cell_type": "code",
      "execution_count": null,
      "metadata": {
        "id": "GUq9b1y8VsDk"
      },
      "outputs": [],
      "source": [
        "import matplotlib.pyplot as plt\n",
        "\n",
        "def plot_history(history, *args):\n",
        "    for arg in args:\n",
        "        plt.plot(history.history[arg], label=f\"{arg}\")\n",
        "    plt.xlabel('epoch')\n",
        "    plt.legend()\n",
        "    plt.show()\n",
        "\n",
        "# Plot model\n",
        "plot_history(history, 'loss', 'val_loss')"
      ]
    },
    {
      "cell_type": "code",
      "execution_count": null,
      "metadata": {
        "id": "p-XnztBIVwMr"
      },
      "outputs": [],
      "source": [
        "model.save('gru_model.keras')"
      ]
    },
    {
      "cell_type": "code",
      "execution_count": null,
      "metadata": {
        "id": "YE3r5LVpd-A5"
      },
      "outputs": [],
      "source": [
        "!zip -r gru_model.zip gru_model.keras\n",
        "!cp gru_model.zip /content/drive/MyDrive/machine-learning-models/"
      ]
    }
  ],
  "metadata": {
    "accelerator": "GPU",
    "colab": {
      "gpuType": "L4",
      "machine_shape": "hm",
      "provenance": []
    },
    "kernelspec": {
      "display_name": "Python 3",
      "name": "python3"
    },
    "language_info": {
      "name": "python"
    }
  },
  "nbformat": 4,
  "nbformat_minor": 0
}
