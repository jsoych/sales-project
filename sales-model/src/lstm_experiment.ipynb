{
  "cells": [
    {
      "cell_type": "code",
      "execution_count": null,
      "metadata": {
        "colab": {
          "base_uri": "https://localhost:8080/"
        },
        "id": "mvejd_9CMsf_",
        "outputId": "d5f8af50-8e57-433b-a35f-6c39d1c910c1"
      },
      "outputs": [],
      "source": [
        "from google.colab import drive\n",
        "drive.mount('/content/drive')"
      ]
    },
    {
      "cell_type": "code",
      "execution_count": null,
      "metadata": {
        "colab": {
          "base_uri": "https://localhost:8080/"
        },
        "id": "LdpzB-V8NoXC",
        "outputId": "821956e5-003f-4b9d-8744-f91a50333000"
      },
      "outputs": [],
      "source": [
        "!unzip /content/drive/MyDrive/machine-learning-data/sales-forecasting/sales-data.zip -d data"
      ]
    },
    {
      "cell_type": "code",
      "execution_count": null,
      "metadata": {
        "colab": {
          "base_uri": "https://localhost:8080/"
        },
        "id": "qiZdfV-6Qb_W",
        "outputId": "dc6ea83f-27e5-4533-ff68-08fd00fd54e2"
      },
      "outputs": [],
      "source": [
        "!pip install PyGithub"
      ]
    },
    {
      "cell_type": "code",
      "execution_count": 4,
      "metadata": {
        "id": "o1jKqEmaMEM-"
      },
      "outputs": [],
      "source": [
        "import os\n",
        "\n",
        "from github import Github, Auth\n",
        "\n",
        "# Get DataGenerator object from sales-project repo\n",
        "auth = Auth.Token('')\n",
        "\n",
        "# Public web Github\n",
        "with Github(auth=auth) as gh:\n",
        "    # Get team_project repo\n",
        "    repo = gh.get_user().get_repo('sales-project')\n",
        "\n",
        "    # Get data generator from repo\n",
        "    content = repo.get_contents(\n",
        "        path='sales-model/src/data_generator.py',\n",
        "        ref='a07dd52'\n",
        "    )\n",
        "    rawdata = content.decoded_content\n",
        "\n",
        "    # Save data generator\n",
        "    if not(os.path.exists(content.name)):\n",
        "        with open(content.name, 'wb') as f:\n",
        "            f.write(rawdata)"
      ]
    },
    {
      "cell_type": "code",
      "execution_count": null,
      "metadata": {
        "colab": {
          "base_uri": "https://localhost:8080/"
        },
        "id": "r6N53FBPSE3c",
        "outputId": "dc9eeef5-ce40-4973-8ace-79f71964b580"
      },
      "outputs": [],
      "source": [
        "from data_generator import DataGenerator\n",
        "\n",
        "# Create train data generator\n",
        "train_gen = DataGenerator('data/sales_train.csv', 'data/items.csv')\n",
        "\n",
        "# Create validation data generator\n",
        "val_gen = train_gen.split_generator(0.3, shuffle=True)\n",
        "\n",
        "# Create test data generator\n",
        "test_gen = val_gen.split_generator(0.33, shuffle=True)"
      ]
    },
    {
      "cell_type": "code",
      "execution_count": 7,
      "metadata": {
        "id": "YxSs3TvOA8IF"
      },
      "outputs": [],
      "source": [
        "import numpy as np\n",
        "import pandas as pd\n",
        "\n",
        "# Get item prices\n",
        "prices = pd.read_csv('/content/data/sales_train.csv', usecols=['item_price'])\n",
        "prices = np.squeeze(prices.to_numpy())"
      ]
    },
    {
      "cell_type": "code",
      "execution_count": null,
      "metadata": {
        "colab": {
          "base_uri": "https://localhost:8080/",
          "height": 485
        },
        "id": "bcDtdAu6TDyG",
        "outputId": "0bd2376e-eea3-4642-d55f-f0bc47a3545e"
      },
      "outputs": [],
      "source": [
        "from keras import Model, Input\n",
        "from keras.layers import Concatenate, Dense, Discretization, Hashing, LSTM\n",
        "\n",
        "# Sales feature\n",
        "sales_input = Input((train_gen.seq_len, 12), name='sales')\n",
        "x = LSTM(16, name='lstm_layer')(sales_input)\n",
        "\n",
        "# Items feature\n",
        "items_input = Input((1,), name='items')\n",
        "y = Hashing(16, name='hashing_layer')(items_input)\n",
        "\n",
        "# Prices feature\n",
        "prices_input = Input((1,), name='prices')\n",
        "discrete_layer = Discretization(num_bins=16, name='discrete_layer')\n",
        "discrete_layer.adapt(prices)\n",
        "z = discrete_layer(prices_input)\n",
        "\n",
        "w = Concatenate(name='concatenate')([x,y,z])\n",
        "w = Dense(256, activation='relu', name='hidden_layer')(w)\n",
        "pred = Dense(1, activation='relu', name='prediction')(w)\n",
        "\n",
        "# Create model\n",
        "model = Model(\n",
        "    inputs=[sales_input, items_input, prices_input],\n",
        "    outputs=pred\n",
        ")\n",
        "model.summary()"
      ]
    },
    {
      "cell_type": "code",
      "execution_count": 9,
      "metadata": {
        "id": "Qj34q7wGoZTD"
      },
      "outputs": [],
      "source": [
        "model.compile(optimizer='adam', loss='mse')"
      ]
    },
    {
      "cell_type": "code",
      "execution_count": null,
      "metadata": {
        "colab": {
          "base_uri": "https://localhost:8080/"
        },
        "id": "50VSa9r4o7GP",
        "outputId": "4c5bc9a1-71d3-45c6-c015-1b44b51a1064"
      },
      "outputs": [],
      "source": [
        "from keras.callbacks import EarlyStopping\n",
        "\n",
        "# Fit model\n",
        "history = model.fit(\n",
        "    x=train_gen,\n",
        "    batch_size=train_gen.batch_size,\n",
        "    epochs=100,\n",
        "    callbacks=EarlyStopping(patience=3),\n",
        "    validation_data=val_gen,\n",
        "    validation_batch_size=val_gen.batch_size\n",
        ")"
      ]
    },
    {
      "cell_type": "code",
      "execution_count": null,
      "metadata": {
        "id": "KM6oo1J-KRlj"
      },
      "outputs": [],
      "source": [
        "import matplotlib.pyplot as plt\n",
        "\n",
        "def plot_history(history, *args):\n",
        "    for arg in args:\n",
        "        plt.plot(history.history[arg], label=f\"{arg}\")\n",
        "    plt.xlabel('epoch')\n",
        "    plt.legend()\n",
        "    plt.show()\n",
        "\n",
        "# Plot model\n",
        "plot_history(history, 'loss', 'val_loss')"
      ]
    },
    {
      "cell_type": "code",
      "execution_count": null,
      "metadata": {
        "id": "1npsoyJmIpf4"
      },
      "outputs": [],
      "source": [
        "model.save('lstm_model.keras')"
      ]
    },
    {
      "cell_type": "code",
      "execution_count": null,
      "metadata": {
        "id": "EVo6hhFRdhwC"
      },
      "outputs": [],
      "source": [
        "!zip -r lstm_model.zip lstm_model.keras\n",
        "!cp lstm_model.zip /content/drive/MyDrive/machine-learning-models/"
      ]
    }
  ],
  "metadata": {
    "accelerator": "GPU",
    "colab": {
      "gpuType": "L4",
      "machine_shape": "hm",
      "provenance": []
    },
    "kernelspec": {
      "display_name": "Python 3",
      "name": "python3"
    },
    "language_info": {
      "name": "python"
    }
  },
  "nbformat": 4,
  "nbformat_minor": 0
}
